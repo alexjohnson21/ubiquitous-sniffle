{
  "nbformat": 4,
  "nbformat_minor": 0,
  "metadata": {
    "colab": {
      "name": "cse450_prove04.ipynb",
      "provenance": [],
      "collapsed_sections": [],
      "toc_visible": true,
      "mount_file_id": "1PgCyefV_BlX_WGOFmJxgOWj1mjyMsy_R",
      "authorship_tag": "ABX9TyORgLleYTcjRM0tXqHEdakE",
      "include_colab_link": true
    },
    "kernelspec": {
      "name": "python3",
      "display_name": "Python 3"
    }
  },
  "cells": [
    {
      "cell_type": "markdown",
      "metadata": {
        "id": "view-in-github",
        "colab_type": "text"
      },
      "source": [
        "<a href=\"https://colab.research.google.com/github/alexjohnson21/ubiquitous-sniffle/blob/master/cse450_prove04.ipynb\" target=\"_parent\"><img src=\"https://colab.research.google.com/assets/colab-badge.svg\" alt=\"Open In Colab\"/></a>"
      ]
    },
    {
      "cell_type": "markdown",
      "metadata": {
        "id": "-yMlyXR7H2GZ",
        "colab_type": "text"
      },
      "source": [
        "# 04 Prove - Decision Tree Classifier"
      ]
    },
    {
      "cell_type": "markdown",
      "metadata": {
        "id": "tpcl3LglIa75",
        "colab_type": "text"
      },
      "source": [
        "## Setup and imports"
      ]
    },
    {
      "cell_type": "code",
      "metadata": {
        "id": "7Nsn-WmTTKmt",
        "colab_type": "code",
        "colab": {}
      },
      "source": [
        "!pip install decision-tree-id3"
      ],
      "execution_count": 0,
      "outputs": []
    },
    {
      "cell_type": "code",
      "metadata": {
        "id": "ganfZDM7Ji-O",
        "colab_type": "code",
        "colab": {}
      },
      "source": [
        "import pandas as pd\n",
        "import numpy as np\n",
        "from sklearn.model_selection import train_test_split\n",
        "from sklearn.metrics import accuracy_score\n",
        "from id3 import Id3Estimator\n",
        "from id3 import export_graphviz"
      ],
      "execution_count": 0,
      "outputs": []
    },
    {
      "cell_type": "code",
      "metadata": {
        "id": "lbF10oymIs9k",
        "colab_type": "code",
        "colab": {}
      },
      "source": [
        "from google.colab import files\n",
        "uploaded = files.upload()"
      ],
      "execution_count": 0,
      "outputs": []
    },
    {
      "cell_type": "code",
      "metadata": {
        "id": "uwsYCz1QJ-2G",
        "colab_type": "code",
        "outputId": "02a7a20a-21f3-489b-ea71-f2bef43c0f40",
        "colab": {
          "base_uri": "https://localhost:8080/",
          "height": 206
        }
      },
      "source": [
        "iris = pd.read_csv(\"iris.data\")\n",
        "iris.head()"
      ],
      "execution_count": 103,
      "outputs": [
        {
          "output_type": "execute_result",
          "data": {
            "text/html": [
              "<div>\n",
              "<style scoped>\n",
              "    .dataframe tbody tr th:only-of-type {\n",
              "        vertical-align: middle;\n",
              "    }\n",
              "\n",
              "    .dataframe tbody tr th {\n",
              "        vertical-align: top;\n",
              "    }\n",
              "\n",
              "    .dataframe thead th {\n",
              "        text-align: right;\n",
              "    }\n",
              "</style>\n",
              "<table border=\"1\" class=\"dataframe\">\n",
              "  <thead>\n",
              "    <tr style=\"text-align: right;\">\n",
              "      <th></th>\n",
              "      <th>sepal_length</th>\n",
              "      <th>sepal_width</th>\n",
              "      <th>petal_length</th>\n",
              "      <th>petal_width</th>\n",
              "      <th>species</th>\n",
              "    </tr>\n",
              "  </thead>\n",
              "  <tbody>\n",
              "    <tr>\n",
              "      <th>0</th>\n",
              "      <td>5.1</td>\n",
              "      <td>3.5</td>\n",
              "      <td>1.4</td>\n",
              "      <td>0.2</td>\n",
              "      <td>Iris-setosa</td>\n",
              "    </tr>\n",
              "    <tr>\n",
              "      <th>1</th>\n",
              "      <td>4.9</td>\n",
              "      <td>3.0</td>\n",
              "      <td>1.4</td>\n",
              "      <td>0.2</td>\n",
              "      <td>Iris-setosa</td>\n",
              "    </tr>\n",
              "    <tr>\n",
              "      <th>2</th>\n",
              "      <td>4.7</td>\n",
              "      <td>3.2</td>\n",
              "      <td>1.3</td>\n",
              "      <td>0.2</td>\n",
              "      <td>Iris-setosa</td>\n",
              "    </tr>\n",
              "    <tr>\n",
              "      <th>3</th>\n",
              "      <td>4.6</td>\n",
              "      <td>3.1</td>\n",
              "      <td>1.5</td>\n",
              "      <td>0.2</td>\n",
              "      <td>Iris-setosa</td>\n",
              "    </tr>\n",
              "    <tr>\n",
              "      <th>4</th>\n",
              "      <td>5.0</td>\n",
              "      <td>3.6</td>\n",
              "      <td>1.4</td>\n",
              "      <td>0.2</td>\n",
              "      <td>Iris-setosa</td>\n",
              "    </tr>\n",
              "  </tbody>\n",
              "</table>\n",
              "</div>"
            ],
            "text/plain": [
              "   sepal_length  sepal_width  petal_length  petal_width      species\n",
              "0           5.1          3.5           1.4          0.2  Iris-setosa\n",
              "1           4.9          3.0           1.4          0.2  Iris-setosa\n",
              "2           4.7          3.2           1.3          0.2  Iris-setosa\n",
              "3           4.6          3.1           1.5          0.2  Iris-setosa\n",
              "4           5.0          3.6           1.4          0.2  Iris-setosa"
            ]
          },
          "metadata": {
            "tags": []
          },
          "execution_count": 103
        }
      ]
    },
    {
      "cell_type": "markdown",
      "metadata": {
        "id": "FMGSz-g0LigE",
        "colab_type": "text"
      },
      "source": [
        "## Preprocessing"
      ]
    },
    {
      "cell_type": "markdown",
      "metadata": {
        "id": "o-CJj2ltLr13",
        "colab_type": "text"
      },
      "source": [
        "### Check for missing vals"
      ]
    },
    {
      "cell_type": "code",
      "metadata": {
        "id": "40ZKMwqXKQBR",
        "colab_type": "code",
        "outputId": "e64084d4-87c6-47b5-f78d-d128f983397a",
        "colab": {
          "base_uri": "https://localhost:8080/",
          "height": 127
        }
      },
      "source": [
        "# Show total missing values on each row (axis=0)\n",
        "iris.isna().sum(axis=0)\n",
        "\n",
        "# Result: no missing values"
      ],
      "execution_count": 104,
      "outputs": [
        {
          "output_type": "execute_result",
          "data": {
            "text/plain": [
              "sepal_length    0\n",
              "sepal_width     0\n",
              "petal_length    0\n",
              "petal_width     0\n",
              "species         0\n",
              "dtype: int64"
            ]
          },
          "metadata": {
            "tags": []
          },
          "execution_count": 104
        }
      ]
    },
    {
      "cell_type": "markdown",
      "metadata": {
        "id": "OZAb8usFMlht",
        "colab_type": "text"
      },
      "source": [
        "### Check types of data present"
      ]
    },
    {
      "cell_type": "code",
      "metadata": {
        "id": "vxX9sMi9MO4W",
        "colab_type": "code",
        "outputId": "f0d57f76-3370-4022-9158-458cba3b76c1",
        "colab": {
          "base_uri": "https://localhost:8080/",
          "height": 127
        }
      },
      "source": [
        "iris.dtypes"
      ],
      "execution_count": 105,
      "outputs": [
        {
          "output_type": "execute_result",
          "data": {
            "text/plain": [
              "sepal_length    float64\n",
              "sepal_width     float64\n",
              "petal_length    float64\n",
              "petal_width     float64\n",
              "species          object\n",
              "dtype: object"
            ]
          },
          "metadata": {
            "tags": []
          },
          "execution_count": 105
        }
      ]
    },
    {
      "cell_type": "markdown",
      "metadata": {
        "id": "509wx8HNMv2P",
        "colab_type": "text"
      },
      "source": [
        "### Split the dataset into features and targets (X and Y)"
      ]
    },
    {
      "cell_type": "code",
      "metadata": {
        "id": "Tt9_SLbHNMBb",
        "colab_type": "code",
        "outputId": "e395e167-2a9b-4263-ec6c-e2cd7336cfce",
        "colab": {
          "base_uri": "https://localhost:8080/",
          "height": 54
        }
      },
      "source": [
        "# Integer-based location - all rows, all columns except the last\n",
        "X = iris.iloc[:, :-1]\n",
        "X_names = X.columns\n",
        "\n",
        "# All rows, only last column\n",
        "Y = iris.iloc[:, -1]\n",
        "\n",
        "# SKLearn likes numpy arrays\n",
        "X = X.to_numpy()\n",
        "Y = Y.to_numpy()\n",
        "\n",
        "X_names = X_names.to_numpy()\n",
        "X_names"
      ],
      "execution_count": 106,
      "outputs": [
        {
          "output_type": "execute_result",
          "data": {
            "text/plain": [
              "array(['sepal_length', 'sepal_width', 'petal_length', 'petal_width'],\n",
              "      dtype=object)"
            ]
          },
          "metadata": {
            "tags": []
          },
          "execution_count": 106
        }
      ]
    },
    {
      "cell_type": "markdown",
      "metadata": {
        "id": "kgZu7dL2RvFi",
        "colab_type": "text"
      },
      "source": [
        "## Create training and testing sets"
      ]
    },
    {
      "cell_type": "code",
      "metadata": {
        "id": "RJsgnCuoUFcB",
        "colab_type": "code",
        "colab": {}
      },
      "source": [
        "x_train, x_test, y_train, y_test = train_test_split(X, Y, test_size=0.2)"
      ],
      "execution_count": 0,
      "outputs": []
    },
    {
      "cell_type": "markdown",
      "metadata": {
        "id": "XFrbNTQWUgEy",
        "colab_type": "text"
      },
      "source": [
        "## Create decision tree and experiment with it\n",
        "*ID3-based decision tree written by svaante. [View on GitHub](https://github.com/svaante/decision-tree-id3)*"
      ]
    },
    {
      "cell_type": "markdown",
      "metadata": {
        "id": "DKjmNjhAfByl",
        "colab_type": "text"
      },
      "source": [
        "### Default ID3 tree - no specified parameters"
      ]
    },
    {
      "cell_type": "code",
      "metadata": {
        "id": "LszjZmdEWPWL",
        "colab_type": "code",
        "outputId": "cb9776ed-6b60-424b-cc75-c81a7e49c951",
        "colab": {
          "base_uri": "https://localhost:8080/",
          "height": 54
        }
      },
      "source": [
        "dec_tree = Id3Estimator()\n",
        "dec_tree.fit(x_train, y_train)"
      ],
      "execution_count": 108,
      "outputs": [
        {
          "output_type": "execute_result",
          "data": {
            "text/plain": [
              "Id3Estimator(gain_ratio=False, is_repeating=False, max_depth=None,\n",
              "             min_entropy_decrease=0.0, min_samples_split=2, prune=False)"
            ]
          },
          "metadata": {
            "tags": []
          },
          "execution_count": 108
        }
      ]
    },
    {
      "cell_type": "markdown",
      "metadata": {
        "id": "y7Mkw-ZFfO0a",
        "colab_type": "text"
      },
      "source": [
        "![Default ID3 tree structure](https://drive.google.com/uc?export=view&id=160H6SkdZkK5qmqiIkXtxQmGsBMB3RXTG)"
      ]
    },
    {
      "cell_type": "code",
      "metadata": {
        "id": "PM1W_PKmW-fi",
        "colab_type": "code",
        "outputId": "4443a956-2028-4766-f08f-a23ea869ad1a",
        "colab": {
          "base_uri": "https://localhost:8080/",
          "height": 35
        }
      },
      "source": [
        "y_pred = dec_tree.predict(x_test)\n",
        "accuracy = accuracy_score(y_test, y_pred)\n",
        "\n",
        "accuracy"
      ],
      "execution_count": 109,
      "outputs": [
        {
          "output_type": "execute_result",
          "data": {
            "text/plain": [
              "0.8666666666666667"
            ]
          },
          "metadata": {
            "tags": []
          },
          "execution_count": 109
        }
      ]
    },
    {
      "cell_type": "markdown",
      "metadata": {
        "id": "TCsmQp33hP15",
        "colab_type": "text"
      },
      "source": [
        "### ID3 tree with pruning"
      ]
    },
    {
      "cell_type": "code",
      "metadata": {
        "id": "R8za8M2RhS0S",
        "colab_type": "code",
        "colab": {
          "base_uri": "https://localhost:8080/",
          "height": 54
        },
        "outputId": "07534bc3-4346-4811-eba4-47f5a9287277"
      },
      "source": [
        "dec_tree = Id3Estimator(prune=True)\n",
        "dec_tree.fit(x_train, y_train)"
      ],
      "execution_count": 110,
      "outputs": [
        {
          "output_type": "execute_result",
          "data": {
            "text/plain": [
              "Id3Estimator(gain_ratio=False, is_repeating=False, max_depth=None,\n",
              "             min_entropy_decrease=0.0, min_samples_split=2, prune=True)"
            ]
          },
          "metadata": {
            "tags": []
          },
          "execution_count": 110
        }
      ]
    },
    {
      "cell_type": "markdown",
      "metadata": {
        "id": "IjWpe2RKhsd6",
        "colab_type": "text"
      },
      "source": [
        "![Pruned ID3 tree structure](https://drive.google.com/uc?export=view&id=1-1ycnS8FQYWWNbENIGdQJQFCyikCnPuY)"
      ]
    },
    {
      "cell_type": "code",
      "metadata": {
        "id": "Y1fY1JROiFHF",
        "colab_type": "code",
        "colab": {
          "base_uri": "https://localhost:8080/",
          "height": 35
        },
        "outputId": "f29fbf91-0595-43c9-9bec-f5d95a5130a6"
      },
      "source": [
        "y_pred = dec_tree.predict(x_test)\n",
        "accuracy = accuracy_score(y_test, y_pred)\n",
        "\n",
        "accuracy"
      ],
      "execution_count": 111,
      "outputs": [
        {
          "output_type": "execute_result",
          "data": {
            "text/plain": [
              "0.9"
            ]
          },
          "metadata": {
            "tags": []
          },
          "execution_count": 111
        }
      ]
    },
    {
      "cell_type": "markdown",
      "metadata": {
        "id": "04TAV_uwiWrO",
        "colab_type": "text"
      },
      "source": [
        "### ID3 tree with depth limit"
      ]
    },
    {
      "cell_type": "code",
      "metadata": {
        "id": "d5d9kPkliZIK",
        "colab_type": "code",
        "colab": {
          "base_uri": "https://localhost:8080/",
          "height": 54
        },
        "outputId": "2574da07-fcc3-4dab-843d-925cf8a70b3d"
      },
      "source": [
        "dec_tree = Id3Estimator(max_depth=4)\n",
        "dec_tree.fit(x_train, y_train)"
      ],
      "execution_count": 112,
      "outputs": [
        {
          "output_type": "execute_result",
          "data": {
            "text/plain": [
              "Id3Estimator(gain_ratio=False, is_repeating=False, max_depth=4,\n",
              "             min_entropy_decrease=0.0, min_samples_split=2, prune=False)"
            ]
          },
          "metadata": {
            "tags": []
          },
          "execution_count": 112
        }
      ]
    },
    {
      "cell_type": "markdown",
      "metadata": {
        "id": "eCEZiuoQi77n",
        "colab_type": "text"
      },
      "source": [
        "![Limited ID3 tree structure](https://drive.google.com/uc?export=view&id=1-ChWl7s4Kq9mwk_vJsqtzsPrHLNuPLUN)"
      ]
    },
    {
      "cell_type": "code",
      "metadata": {
        "id": "NtysSN3DjRLg",
        "colab_type": "code",
        "colab": {
          "base_uri": "https://localhost:8080/",
          "height": 35
        },
        "outputId": "b31fde18-f186-482f-b898-a0095bfd46e2"
      },
      "source": [
        "y_pred = dec_tree.predict(x_test)\n",
        "accuracy = accuracy_score(y_test, y_pred)\n",
        "\n",
        "accuracy"
      ],
      "execution_count": 113,
      "outputs": [
        {
          "output_type": "execute_result",
          "data": {
            "text/plain": [
              "0.8666666666666667"
            ]
          },
          "metadata": {
            "tags": []
          },
          "execution_count": 113
        }
      ]
    },
    {
      "cell_type": "markdown",
      "metadata": {
        "id": "6xbfAl7fdtol",
        "colab_type": "text"
      },
      "source": [
        "## A script to automate dotfile creation and png export.\n",
        "I'm kind of proud of this."
      ]
    },
    {
      "cell_type": "code",
      "metadata": {
        "id": "613A0zNibZfR",
        "colab_type": "code",
        "colab": {}
      },
      "source": [
        "times_exported\n",
        "output_name = \"dec_tree_\" + str(times_exported)\n",
        "image_name = output_name + \".png\"\n",
        "\n",
        "export_graphviz(dec_tree.tree_, output_name  + \".dot\", feature_names=X_names)\n",
        "\n",
        "output_name = output_name + \".dot\"\n",
        "times_exported += 1\n",
        "\n",
        "!dot -T png $output_name -o $image_name\n",
        "!rm $output_name"
      ],
      "execution_count": 0,
      "outputs": []
    }
  ]
}